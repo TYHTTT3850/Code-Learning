{
 "cells": [
  {
   "cell_type": "code",
   "id": "initial_id",
   "metadata": {
    "collapsed": true,
    "ExecuteTime": {
     "end_time": "2025-10-13T13:11:57.633080Z",
     "start_time": "2025-10-13T13:11:53.436103Z"
    }
   },
   "source": "import pandas as pd",
   "outputs": [],
   "execution_count": 1
  },
  {
   "metadata": {},
   "cell_type": "markdown",
   "source": "第一问",
   "id": "6b72fcaa2f7fff39"
  },
  {
   "metadata": {
    "ExecuteTime": {
     "end_time": "2025-10-13T13:17:05.284900Z",
     "start_time": "2025-10-13T13:17:05.257854Z"
    }
   },
   "cell_type": "code",
   "source": [
    "aapl = pd.read_csv(\"aapl.csv\")\n",
    "amzn = pd.read_csv(\"amzn.csv\")\n",
    "fb = pd.read_csv(\"fb.csv\")\n",
    "goog = pd.read_csv(\"goog.csv\")\n",
    "nflx = pd.read_csv(\"nflx.csv\")"
   ],
   "id": "733aecca7daae964",
   "outputs": [],
   "execution_count": 2
  },
  {
   "metadata": {
    "ExecuteTime": {
     "end_time": "2025-10-13T13:20:21.679389Z",
     "start_time": "2025-10-13T13:20:21.672446Z"
    }
   },
   "cell_type": "code",
   "source": [
    "aapl[\"ticker\"]=\"aapl\"\n",
    "amzn[\"ticker\"]=\"amzn\"\n",
    "fb[\"ticker\"]=\"fb\"\n",
    "goog[\"ticker\"]=\"goog\"\n",
    "nflx[\"ticker\"]=\"nflx\""
   ],
   "id": "5f6bb1537ad8d1f2",
   "outputs": [],
   "execution_count": 4
  },
  {
   "metadata": {
    "ExecuteTime": {
     "end_time": "2025-10-13T13:22:17.559082Z",
     "start_time": "2025-10-13T13:22:17.554624Z"
    }
   },
   "cell_type": "code",
   "source": "faang = pd.concat([aapl,amzn,fb,goog,nflx],axis=0)",
   "id": "fcbdcba3ace11406",
   "outputs": [],
   "execution_count": 7
  },
  {
   "metadata": {
    "ExecuteTime": {
     "end_time": "2025-10-13T13:24:04.608345Z",
     "start_time": "2025-10-13T13:24:04.595106Z"
    }
   },
   "cell_type": "code",
   "source": "faang.to_csv(\"faang.csv\")",
   "id": "ef1a01fa2879bb90",
   "outputs": [],
   "execution_count": 8
  },
  {
   "metadata": {},
   "cell_type": "markdown",
   "source": "第二问",
   "id": "47d4bae121a7510d"
  },
  {
   "metadata": {
    "ExecuteTime": {
     "end_time": "2025-10-13T13:30:16.900100Z",
     "start_time": "2025-10-13T13:30:16.891255Z"
    }
   },
   "cell_type": "code",
   "source": [
    "faang[\"date\"]=pd.to_datetime(faang[\"date\"])\n",
    "faang[\"volume\"]=faang[\"volume\"].astype(int)"
   ],
   "id": "51b86f467df4fb3f",
   "outputs": [],
   "execution_count": 10
  },
  {
   "metadata": {
    "ExecuteTime": {
     "end_time": "2025-10-13T13:31:55.279767Z",
     "start_time": "2025-10-13T13:31:55.271205Z"
    }
   },
   "cell_type": "code",
   "source": "faang = faang.sort_values(by=[\"date\",\"ticker\"])",
   "id": "86aa5d4a28efcdf5",
   "outputs": [],
   "execution_count": 11
  },
  {
   "metadata": {},
   "cell_type": "markdown",
   "source": "第三问",
   "id": "f1b08f8ad36e58cc"
  },
  {
   "metadata": {
    "ExecuteTime": {
     "end_time": "2025-10-13T13:34:17.213498Z",
     "start_time": "2025-10-13T13:34:17.202428Z"
    }
   },
   "cell_type": "code",
   "source": [
    "lowest7=faang.nsmallest(7,'volume')\n",
    "print(lowest7)"
   ],
   "id": "323cc62bfffa481b",
   "outputs": [
    {
     "name": "stdout",
     "output_type": "stream",
     "text": [
      "          date         high          low         open        close  volume  \\\n",
      "126 2018-07-03  1135.819946  1100.020020  1135.819946  1102.890015  679000   \n",
      "226 2018-11-23  1037.589966  1022.398987  1030.000000  1023.880005  691500   \n",
      "99  2018-05-24  1080.469971  1066.150024  1079.000000  1079.239990  766800   \n",
      "130 2018-07-10  1159.589966  1149.589966  1156.979980  1152.839966  798400   \n",
      "152 2018-08-09  1255.541992  1246.010010  1249.900024  1249.099976  848600   \n",
      "159 2018-08-20  1211.000000  1194.625977  1205.020020  1207.770020  870800   \n",
      "161 2018-08-22  1211.839966  1199.000000  1200.000000  1207.329956  887400   \n",
      "\n",
      "    ticker  \n",
      "126   goog  \n",
      "226   goog  \n",
      "99    goog  \n",
      "130   goog  \n",
      "152   goog  \n",
      "159   goog  \n",
      "161   goog  \n"
     ]
    }
   ],
   "execution_count": 12
  },
  {
   "metadata": {},
   "cell_type": "markdown",
   "source": "第四问",
   "id": "f258ba74a8badc88"
  },
  {
   "metadata": {
    "ExecuteTime": {
     "end_time": "2025-10-13T13:53:44.310080Z",
     "start_time": "2025-10-13T13:53:44.300806Z"
    }
   },
   "cell_type": "code",
   "source": [
    "faang_long = faang.melt(id_vars=[\"date\",\"ticker\"],\n",
    "                        var_name=\"indication\",#新生成indication列存放原来的high,low,open,close,volume列的列名\n",
    "                        value_name=\"value\")#新生成value列存放原来的high,low,open,close,volume列里的值"
   ],
   "id": "c6e50156c5a5505d",
   "outputs": [],
   "execution_count": 13
  },
  {
   "metadata": {},
   "cell_type": "markdown",
   "source": "第五问",
   "id": "79febc32e0dc90a2"
  },
  {
   "metadata": {
    "ExecuteTime": {
     "end_time": "2025-10-13T13:59:26.158439Z",
     "start_time": "2025-10-13T13:59:26.152443Z"
    }
   },
   "cell_type": "code",
   "source": "faang_correct=faang[faang[\"date\"]!=\"2018-07-26\"]#直接删除",
   "id": "ce1dd950f551e84c",
   "outputs": [],
   "execution_count": 14
  },
  {
   "metadata": {},
   "cell_type": "markdown",
   "source": "第六问",
   "id": "267f8645959da5eb"
  },
  {
   "metadata": {
    "ExecuteTime": {
     "end_time": "2025-10-13T14:06:11.214820Z",
     "start_time": "2025-10-13T14:06:11.173048Z"
    }
   },
   "cell_type": "code",
   "source": "covid19_cases = pd.read_csv(\"covid19_cases.csv\")",
   "id": "64da6865b34e8ac4",
   "outputs": [],
   "execution_count": 18
  },
  {
   "metadata": {
    "ExecuteTime": {
     "end_time": "2025-10-13T14:06:12.308600Z",
     "start_time": "2025-10-13T14:06:12.300231Z"
    }
   },
   "cell_type": "code",
   "source": "covid19_cases[\"date\"]=pd.to_datetime(covid19_cases[\"dateRep\"],format=\"%d/%m/%Y\")",
   "id": "582b287e6177cdbb",
   "outputs": [],
   "execution_count": 19
  },
  {
   "metadata": {
    "ExecuteTime": {
     "end_time": "2025-10-13T14:07:48.068435Z",
     "start_time": "2025-10-13T14:07:48.060343Z"
    }
   },
   "cell_type": "code",
   "source": [
    "covid19_cases.set_index(\"date\",inplace=True)#设置索引\n",
    "covid19_cases.sort_index(inplace=True)#按索引排序"
   ],
   "id": "af049c6fc8a78d77",
   "outputs": [],
   "execution_count": 20
  },
  {
   "metadata": {
    "ExecuteTime": {
     "end_time": "2025-10-13T14:10:33.947908Z",
     "start_time": "2025-10-13T14:10:33.939035Z"
    }
   },
   "cell_type": "code",
   "source": [
    "covid19_cases[\"countriesAndTerritories\"]=covid19_cases[\"countriesAndTerritories\"].replace({\n",
    "    'United_States_of_America': 'USA',\n",
    "    'United_Kingdom': 'UK'\n",
    "})"
   ],
   "id": "44f002f54dffc62e",
   "outputs": [],
   "execution_count": 21
  },
  {
   "metadata": {
    "ExecuteTime": {
     "end_time": "2025-10-13T14:15:04.526417Z",
     "start_time": "2025-10-13T14:15:04.517702Z"
    }
   },
   "cell_type": "code",
   "source": [
    "countries_to_keep = ['Argentina', 'Brazil', 'China', 'Colombia', 'India','Italy', 'Mexico', 'Peru','Russia', 'Spain','Turkey', 'UK', 'USA']\n",
    "\n",
    "# 筛选\n",
    "covid19_cases_filtered = covid19_cases[covid19_cases['countriesAndTerritories'].isin(countries_to_keep)]"
   ],
   "id": "71f4c064b4089b9f",
   "outputs": [],
   "execution_count": 23
  },
  {
   "metadata": {
    "ExecuteTime": {
     "end_time": "2025-10-13T14:32:55.630289Z",
     "start_time": "2025-10-13T14:32:55.618117Z"
    }
   },
   "cell_type": "code",
   "source": [
    "covid19_cases.reset_index(inplace=True)\n",
    "covid19_cases_wide=covid19_cases.pivot(index='date',columns='countriesAndTerritories',values='cases')"
   ],
   "id": "da0ef989acd12f76",
   "outputs": [],
   "execution_count": 31
  },
  {
   "metadata": {
    "ExecuteTime": {
     "end_time": "2025-10-13T14:33:35.759562Z",
     "start_time": "2025-10-13T14:33:35.755372Z"
    }
   },
   "cell_type": "code",
   "source": "covid19_cases_wide.fillna(0,inplace=True)",
   "id": "6be6305fb509e221",
   "outputs": [],
   "execution_count": 32
  }
 ],
 "metadata": {
  "kernelspec": {
   "display_name": "Python 3",
   "language": "python",
   "name": "python3"
  },
  "language_info": {
   "codemirror_mode": {
    "name": "ipython",
    "version": 2
   },
   "file_extension": ".py",
   "mimetype": "text/x-python",
   "name": "python",
   "nbconvert_exporter": "python",
   "pygments_lexer": "ipython2",
   "version": "2.7.6"
  }
 },
 "nbformat": 4,
 "nbformat_minor": 5
}
